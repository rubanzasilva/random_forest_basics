{
  "nbformat": 4,
  "nbformat_minor": 0,
  "metadata": {
    "colab": {
      "provenance": [],
      "authorship_tag": "ABX9TyNXHh86NTtTc0egh73G3Vqc",
      "include_colab_link": true
    },
    "kernelspec": {
      "name": "python3",
      "display_name": "Python 3"
    },
    "language_info": {
      "name": "python"
    },
    "widgets": {
      "application/vnd.jupyter.widget-state+json": {
        "dc3e2cd0d30b44d08139c263503b47a8": {
          "model_module": "@jupyter-widgets/controls",
          "model_name": "VBoxModel",
          "model_module_version": "1.5.0",
          "state": {
            "_dom_classes": [
              "widget-interact"
            ],
            "_model_module": "@jupyter-widgets/controls",
            "_model_module_version": "1.5.0",
            "_model_name": "VBoxModel",
            "_view_count": null,
            "_view_module": "@jupyter-widgets/controls",
            "_view_module_version": "1.5.0",
            "_view_name": "VBoxView",
            "box_style": "",
            "children": [
              "IPY_MODEL_55b08584489a43bc831d90730ff5404a",
              "IPY_MODEL_610a1dd6c15a4eafa65ee32101c4d948",
              "IPY_MODEL_ee8406f11eeb4ac79887156ce5098d96"
            ],
            "layout": "IPY_MODEL_8fddf941b5804e43a61678a206042744"
          }
        },
        "55b08584489a43bc831d90730ff5404a": {
          "model_module": "@jupyter-widgets/controls",
          "model_name": "DropdownModel",
          "model_module_version": "1.5.0",
          "state": {
            "_dom_classes": [],
            "_model_module": "@jupyter-widgets/controls",
            "_model_module_version": "1.5.0",
            "_model_name": "DropdownModel",
            "_options_labels": [
              "Pclass",
              "Age",
              "SibSp",
              "Parch",
              "LogFare"
            ],
            "_view_count": null,
            "_view_module": "@jupyter-widgets/controls",
            "_view_module_version": "1.5.0",
            "_view_name": "DropdownView",
            "description": "nm",
            "description_tooltip": null,
            "disabled": false,
            "index": 1,
            "layout": "IPY_MODEL_e4f18c48b3304c52b0f87702a85d7876",
            "style": "IPY_MODEL_d1a9270b223a4409b279f9fe21d947ad"
          }
        },
        "610a1dd6c15a4eafa65ee32101c4d948": {
          "model_module": "@jupyter-widgets/controls",
          "model_name": "FloatSliderModel",
          "model_module_version": "1.5.0",
          "state": {
            "_dom_classes": [],
            "_model_module": "@jupyter-widgets/controls",
            "_model_module_version": "1.5.0",
            "_model_name": "FloatSliderModel",
            "_view_count": null,
            "_view_module": "@jupyter-widgets/controls",
            "_view_module_version": "1.5.0",
            "_view_name": "FloatSliderView",
            "continuous_update": true,
            "description": "split",
            "description_tooltip": null,
            "disabled": false,
            "layout": "IPY_MODEL_2a3824e6c4274e55ad804b6a68855a52",
            "max": 46.5,
            "min": -15.5,
            "orientation": "horizontal",
            "readout": true,
            "readout_format": ".2f",
            "step": 0.1,
            "style": "IPY_MODEL_badfc9957eae4827bea03f35e7b134df",
            "value": 10.3
          }
        },
        "ee8406f11eeb4ac79887156ce5098d96": {
          "model_module": "@jupyter-widgets/output",
          "model_name": "OutputModel",
          "model_module_version": "1.0.0",
          "state": {
            "_dom_classes": [],
            "_model_module": "@jupyter-widgets/output",
            "_model_module_version": "1.0.0",
            "_model_name": "OutputModel",
            "_view_count": null,
            "_view_module": "@jupyter-widgets/output",
            "_view_module_version": "1.0.0",
            "_view_name": "OutputView",
            "layout": "IPY_MODEL_13dab865e37145c8ba862473c848dfd8",
            "msg_id": "",
            "outputs": [
              {
                "output_type": "display_data",
                "data": {
                  "text/plain": "0.4813065895535364"
                },
                "metadata": {}
              }
            ]
          }
        },
        "8fddf941b5804e43a61678a206042744": {
          "model_module": "@jupyter-widgets/base",
          "model_name": "LayoutModel",
          "model_module_version": "1.2.0",
          "state": {
            "_model_module": "@jupyter-widgets/base",
            "_model_module_version": "1.2.0",
            "_model_name": "LayoutModel",
            "_view_count": null,
            "_view_module": "@jupyter-widgets/base",
            "_view_module_version": "1.2.0",
            "_view_name": "LayoutView",
            "align_content": null,
            "align_items": null,
            "align_self": null,
            "border": null,
            "bottom": null,
            "display": null,
            "flex": null,
            "flex_flow": null,
            "grid_area": null,
            "grid_auto_columns": null,
            "grid_auto_flow": null,
            "grid_auto_rows": null,
            "grid_column": null,
            "grid_gap": null,
            "grid_row": null,
            "grid_template_areas": null,
            "grid_template_columns": null,
            "grid_template_rows": null,
            "height": null,
            "justify_content": null,
            "justify_items": null,
            "left": null,
            "margin": null,
            "max_height": null,
            "max_width": null,
            "min_height": null,
            "min_width": null,
            "object_fit": null,
            "object_position": null,
            "order": null,
            "overflow": null,
            "overflow_x": null,
            "overflow_y": null,
            "padding": null,
            "right": null,
            "top": null,
            "visibility": null,
            "width": null
          }
        },
        "e4f18c48b3304c52b0f87702a85d7876": {
          "model_module": "@jupyter-widgets/base",
          "model_name": "LayoutModel",
          "model_module_version": "1.2.0",
          "state": {
            "_model_module": "@jupyter-widgets/base",
            "_model_module_version": "1.2.0",
            "_model_name": "LayoutModel",
            "_view_count": null,
            "_view_module": "@jupyter-widgets/base",
            "_view_module_version": "1.2.0",
            "_view_name": "LayoutView",
            "align_content": null,
            "align_items": null,
            "align_self": null,
            "border": null,
            "bottom": null,
            "display": null,
            "flex": null,
            "flex_flow": null,
            "grid_area": null,
            "grid_auto_columns": null,
            "grid_auto_flow": null,
            "grid_auto_rows": null,
            "grid_column": null,
            "grid_gap": null,
            "grid_row": null,
            "grid_template_areas": null,
            "grid_template_columns": null,
            "grid_template_rows": null,
            "height": null,
            "justify_content": null,
            "justify_items": null,
            "left": null,
            "margin": null,
            "max_height": null,
            "max_width": null,
            "min_height": null,
            "min_width": null,
            "object_fit": null,
            "object_position": null,
            "order": null,
            "overflow": null,
            "overflow_x": null,
            "overflow_y": null,
            "padding": null,
            "right": null,
            "top": null,
            "visibility": null,
            "width": null
          }
        },
        "d1a9270b223a4409b279f9fe21d947ad": {
          "model_module": "@jupyter-widgets/controls",
          "model_name": "DescriptionStyleModel",
          "model_module_version": "1.5.0",
          "state": {
            "_model_module": "@jupyter-widgets/controls",
            "_model_module_version": "1.5.0",
            "_model_name": "DescriptionStyleModel",
            "_view_count": null,
            "_view_module": "@jupyter-widgets/base",
            "_view_module_version": "1.2.0",
            "_view_name": "StyleView",
            "description_width": ""
          }
        },
        "2a3824e6c4274e55ad804b6a68855a52": {
          "model_module": "@jupyter-widgets/base",
          "model_name": "LayoutModel",
          "model_module_version": "1.2.0",
          "state": {
            "_model_module": "@jupyter-widgets/base",
            "_model_module_version": "1.2.0",
            "_model_name": "LayoutModel",
            "_view_count": null,
            "_view_module": "@jupyter-widgets/base",
            "_view_module_version": "1.2.0",
            "_view_name": "LayoutView",
            "align_content": null,
            "align_items": null,
            "align_self": null,
            "border": null,
            "bottom": null,
            "display": null,
            "flex": null,
            "flex_flow": null,
            "grid_area": null,
            "grid_auto_columns": null,
            "grid_auto_flow": null,
            "grid_auto_rows": null,
            "grid_column": null,
            "grid_gap": null,
            "grid_row": null,
            "grid_template_areas": null,
            "grid_template_columns": null,
            "grid_template_rows": null,
            "height": null,
            "justify_content": null,
            "justify_items": null,
            "left": null,
            "margin": null,
            "max_height": null,
            "max_width": null,
            "min_height": null,
            "min_width": null,
            "object_fit": null,
            "object_position": null,
            "order": null,
            "overflow": null,
            "overflow_x": null,
            "overflow_y": null,
            "padding": null,
            "right": null,
            "top": null,
            "visibility": null,
            "width": null
          }
        },
        "badfc9957eae4827bea03f35e7b134df": {
          "model_module": "@jupyter-widgets/controls",
          "model_name": "SliderStyleModel",
          "model_module_version": "1.5.0",
          "state": {
            "_model_module": "@jupyter-widgets/controls",
            "_model_module_version": "1.5.0",
            "_model_name": "SliderStyleModel",
            "_view_count": null,
            "_view_module": "@jupyter-widgets/base",
            "_view_module_version": "1.2.0",
            "_view_name": "StyleView",
            "description_width": "",
            "handle_color": null
          }
        },
        "13dab865e37145c8ba862473c848dfd8": {
          "model_module": "@jupyter-widgets/base",
          "model_name": "LayoutModel",
          "model_module_version": "1.2.0",
          "state": {
            "_model_module": "@jupyter-widgets/base",
            "_model_module_version": "1.2.0",
            "_model_name": "LayoutModel",
            "_view_count": null,
            "_view_module": "@jupyter-widgets/base",
            "_view_module_version": "1.2.0",
            "_view_name": "LayoutView",
            "align_content": null,
            "align_items": null,
            "align_self": null,
            "border": null,
            "bottom": null,
            "display": null,
            "flex": null,
            "flex_flow": null,
            "grid_area": null,
            "grid_auto_columns": null,
            "grid_auto_flow": null,
            "grid_auto_rows": null,
            "grid_column": null,
            "grid_gap": null,
            "grid_row": null,
            "grid_template_areas": null,
            "grid_template_columns": null,
            "grid_template_rows": null,
            "height": null,
            "justify_content": null,
            "justify_items": null,
            "left": null,
            "margin": null,
            "max_height": null,
            "max_width": null,
            "min_height": null,
            "min_width": null,
            "object_fit": null,
            "object_position": null,
            "order": null,
            "overflow": null,
            "overflow_x": null,
            "overflow_y": null,
            "padding": null,
            "right": null,
            "top": null,
            "visibility": null,
            "width": null
          }
        },
        "11da6bf6af8a4f8cb0b5a99fd01c3182": {
          "model_module": "@jupyter-widgets/controls",
          "model_name": "VBoxModel",
          "model_module_version": "1.5.0",
          "state": {
            "_dom_classes": [
              "widget-interact"
            ],
            "_model_module": "@jupyter-widgets/controls",
            "_model_module_version": "1.5.0",
            "_model_name": "VBoxModel",
            "_view_count": null,
            "_view_module": "@jupyter-widgets/controls",
            "_view_module_version": "1.5.0",
            "_view_name": "VBoxView",
            "box_style": "",
            "children": [
              "IPY_MODEL_9aeb0d5ff0d74cf0ac19dff9260aecfd",
              "IPY_MODEL_e19ddf2b0bb04bf7b119274f888a1dd4",
              "IPY_MODEL_9e59a073eebe47629f0235e038c0e2ae"
            ],
            "layout": "IPY_MODEL_a43a01ce197849a2bd49719caf025f0e"
          }
        },
        "9aeb0d5ff0d74cf0ac19dff9260aecfd": {
          "model_module": "@jupyter-widgets/controls",
          "model_name": "DropdownModel",
          "model_module_version": "1.5.0",
          "state": {
            "_dom_classes": [],
            "_model_module": "@jupyter-widgets/controls",
            "_model_module_version": "1.5.0",
            "_model_name": "DropdownModel",
            "_options_labels": [
              "Embarked",
              "Sex"
            ],
            "_view_count": null,
            "_view_module": "@jupyter-widgets/controls",
            "_view_module_version": "1.5.0",
            "_view_name": "DropdownView",
            "description": "nm",
            "description_tooltip": null,
            "disabled": false,
            "index": 1,
            "layout": "IPY_MODEL_00fd307bbce841db9f4145b404826c66",
            "style": "IPY_MODEL_c8fbe2f0085a475f9fd778b28cb460ed"
          }
        },
        "e19ddf2b0bb04bf7b119274f888a1dd4": {
          "model_module": "@jupyter-widgets/controls",
          "model_name": "FloatSliderModel",
          "model_module_version": "1.5.0",
          "state": {
            "_dom_classes": [],
            "_model_module": "@jupyter-widgets/controls",
            "_model_module_version": "1.5.0",
            "_model_name": "FloatSliderModel",
            "_view_count": null,
            "_view_module": "@jupyter-widgets/controls",
            "_view_module_version": "1.5.0",
            "_view_name": "FloatSliderView",
            "continuous_update": true,
            "description": "split",
            "description_tooltip": null,
            "disabled": false,
            "layout": "IPY_MODEL_c5278d67e4874f08adb82f1e3686c233",
            "max": 46.5,
            "min": -15.5,
            "orientation": "horizontal",
            "readout": true,
            "readout_format": ".2f",
            "step": 0.1,
            "style": "IPY_MODEL_9fc37186c3d54798a264ad292b547e3e",
            "value": 0.5
          }
        },
        "9e59a073eebe47629f0235e038c0e2ae": {
          "model_module": "@jupyter-widgets/output",
          "model_name": "OutputModel",
          "model_module_version": "1.0.0",
          "state": {
            "_dom_classes": [],
            "_model_module": "@jupyter-widgets/output",
            "_model_module_version": "1.0.0",
            "_model_name": "OutputModel",
            "_view_count": null,
            "_view_module": "@jupyter-widgets/output",
            "_view_module_version": "1.0.0",
            "_view_name": "OutputView",
            "layout": "IPY_MODEL_ee7acc0929fb4d199a8d516aeb09727f",
            "msg_id": "",
            "outputs": [
              {
                "output_type": "display_data",
                "data": {
                  "text/plain": "0.40787530982063946"
                },
                "metadata": {}
              }
            ]
          }
        },
        "a43a01ce197849a2bd49719caf025f0e": {
          "model_module": "@jupyter-widgets/base",
          "model_name": "LayoutModel",
          "model_module_version": "1.2.0",
          "state": {
            "_model_module": "@jupyter-widgets/base",
            "_model_module_version": "1.2.0",
            "_model_name": "LayoutModel",
            "_view_count": null,
            "_view_module": "@jupyter-widgets/base",
            "_view_module_version": "1.2.0",
            "_view_name": "LayoutView",
            "align_content": null,
            "align_items": null,
            "align_self": null,
            "border": null,
            "bottom": null,
            "display": null,
            "flex": null,
            "flex_flow": null,
            "grid_area": null,
            "grid_auto_columns": null,
            "grid_auto_flow": null,
            "grid_auto_rows": null,
            "grid_column": null,
            "grid_gap": null,
            "grid_row": null,
            "grid_template_areas": null,
            "grid_template_columns": null,
            "grid_template_rows": null,
            "height": null,
            "justify_content": null,
            "justify_items": null,
            "left": null,
            "margin": null,
            "max_height": null,
            "max_width": null,
            "min_height": null,
            "min_width": null,
            "object_fit": null,
            "object_position": null,
            "order": null,
            "overflow": null,
            "overflow_x": null,
            "overflow_y": null,
            "padding": null,
            "right": null,
            "top": null,
            "visibility": null,
            "width": null
          }
        },
        "00fd307bbce841db9f4145b404826c66": {
          "model_module": "@jupyter-widgets/base",
          "model_name": "LayoutModel",
          "model_module_version": "1.2.0",
          "state": {
            "_model_module": "@jupyter-widgets/base",
            "_model_module_version": "1.2.0",
            "_model_name": "LayoutModel",
            "_view_count": null,
            "_view_module": "@jupyter-widgets/base",
            "_view_module_version": "1.2.0",
            "_view_name": "LayoutView",
            "align_content": null,
            "align_items": null,
            "align_self": null,
            "border": null,
            "bottom": null,
            "display": null,
            "flex": null,
            "flex_flow": null,
            "grid_area": null,
            "grid_auto_columns": null,
            "grid_auto_flow": null,
            "grid_auto_rows": null,
            "grid_column": null,
            "grid_gap": null,
            "grid_row": null,
            "grid_template_areas": null,
            "grid_template_columns": null,
            "grid_template_rows": null,
            "height": null,
            "justify_content": null,
            "justify_items": null,
            "left": null,
            "margin": null,
            "max_height": null,
            "max_width": null,
            "min_height": null,
            "min_width": null,
            "object_fit": null,
            "object_position": null,
            "order": null,
            "overflow": null,
            "overflow_x": null,
            "overflow_y": null,
            "padding": null,
            "right": null,
            "top": null,
            "visibility": null,
            "width": null
          }
        },
        "c8fbe2f0085a475f9fd778b28cb460ed": {
          "model_module": "@jupyter-widgets/controls",
          "model_name": "DescriptionStyleModel",
          "model_module_version": "1.5.0",
          "state": {
            "_model_module": "@jupyter-widgets/controls",
            "_model_module_version": "1.5.0",
            "_model_name": "DescriptionStyleModel",
            "_view_count": null,
            "_view_module": "@jupyter-widgets/base",
            "_view_module_version": "1.2.0",
            "_view_name": "StyleView",
            "description_width": ""
          }
        },
        "c5278d67e4874f08adb82f1e3686c233": {
          "model_module": "@jupyter-widgets/base",
          "model_name": "LayoutModel",
          "model_module_version": "1.2.0",
          "state": {
            "_model_module": "@jupyter-widgets/base",
            "_model_module_version": "1.2.0",
            "_model_name": "LayoutModel",
            "_view_count": null,
            "_view_module": "@jupyter-widgets/base",
            "_view_module_version": "1.2.0",
            "_view_name": "LayoutView",
            "align_content": null,
            "align_items": null,
            "align_self": null,
            "border": null,
            "bottom": null,
            "display": null,
            "flex": null,
            "flex_flow": null,
            "grid_area": null,
            "grid_auto_columns": null,
            "grid_auto_flow": null,
            "grid_auto_rows": null,
            "grid_column": null,
            "grid_gap": null,
            "grid_row": null,
            "grid_template_areas": null,
            "grid_template_columns": null,
            "grid_template_rows": null,
            "height": null,
            "justify_content": null,
            "justify_items": null,
            "left": null,
            "margin": null,
            "max_height": null,
            "max_width": null,
            "min_height": null,
            "min_width": null,
            "object_fit": null,
            "object_position": null,
            "order": null,
            "overflow": null,
            "overflow_x": null,
            "overflow_y": null,
            "padding": null,
            "right": null,
            "top": null,
            "visibility": null,
            "width": null
          }
        },
        "9fc37186c3d54798a264ad292b547e3e": {
          "model_module": "@jupyter-widgets/controls",
          "model_name": "SliderStyleModel",
          "model_module_version": "1.5.0",
          "state": {
            "_model_module": "@jupyter-widgets/controls",
            "_model_module_version": "1.5.0",
            "_model_name": "SliderStyleModel",
            "_view_count": null,
            "_view_module": "@jupyter-widgets/base",
            "_view_module_version": "1.2.0",
            "_view_name": "StyleView",
            "description_width": "",
            "handle_color": null
          }
        },
        "ee7acc0929fb4d199a8d516aeb09727f": {
          "model_module": "@jupyter-widgets/base",
          "model_name": "LayoutModel",
          "model_module_version": "1.2.0",
          "state": {
            "_model_module": "@jupyter-widgets/base",
            "_model_module_version": "1.2.0",
            "_model_name": "LayoutModel",
            "_view_count": null,
            "_view_module": "@jupyter-widgets/base",
            "_view_module_version": "1.2.0",
            "_view_name": "LayoutView",
            "align_content": null,
            "align_items": null,
            "align_self": null,
            "border": null,
            "bottom": null,
            "display": null,
            "flex": null,
            "flex_flow": null,
            "grid_area": null,
            "grid_auto_columns": null,
            "grid_auto_flow": null,
            "grid_auto_rows": null,
            "grid_column": null,
            "grid_gap": null,
            "grid_row": null,
            "grid_template_areas": null,
            "grid_template_columns": null,
            "grid_template_rows": null,
            "height": null,
            "justify_content": null,
            "justify_items": null,
            "left": null,
            "margin": null,
            "max_height": null,
            "max_width": null,
            "min_height": null,
            "min_width": null,
            "object_fit": null,
            "object_position": null,
            "order": null,
            "overflow": null,
            "overflow_x": null,
            "overflow_y": null,
            "padding": null,
            "right": null,
            "top": null,
            "visibility": null,
            "width": null
          }
        }
      }
    }
  },
  "cells": [
    {
      "cell_type": "markdown",
      "metadata": {
        "id": "view-in-github",
        "colab_type": "text"
      },
      "source": [
        "<a href=\"https://colab.research.google.com/github/rubanzasilva/random_forest_basics/blob/main/random_forests_basics.ipynb\" target=\"_parent\"><img src=\"https://colab.research.google.com/assets/colab-badge.svg\" alt=\"Open In Colab\"/></a>"
      ]
    },
    {
      "cell_type": "code",
      "source": [
        "\n",
        "#hide\n",
        "#This imports and sets up everything you will need for this notebook\n",
        "! [ -e /content ] && pip install -Uqq fastbook\n",
        "import fastbook\n",
        "fastbook.setup_book()"
      ],
      "metadata": {
        "colab": {
          "base_uri": "https://localhost:8080/"
        },
        "id": "qKIB-wkcz0Ct",
        "outputId": "2876e246-3726-4221-c9b6-5d3162b275bd"
      },
      "execution_count": 1,
      "outputs": [
        {
          "output_type": "stream",
          "name": "stdout",
          "text": [
            "\u001b[2K     \u001b[90m━━━━━━━━━━━━━━━━━━━━━━━━━━━━━━━━━━━━━━━━\u001b[0m \u001b[32m719.8/719.8 kB\u001b[0m \u001b[31m8.8 MB/s\u001b[0m eta \u001b[36m0:00:00\u001b[0m\n",
            "\u001b[2K     \u001b[90m━━━━━━━━━━━━━━━━━━━━━━━━━━━━━━━━━━━━━━━━\u001b[0m \u001b[32m536.7/536.7 kB\u001b[0m \u001b[31m13.6 MB/s\u001b[0m eta \u001b[36m0:00:00\u001b[0m\n",
            "\u001b[2K     \u001b[90m━━━━━━━━━━━━━━━━━━━━━━━━━━━━━━━━━━━━━━━━\u001b[0m \u001b[32m116.3/116.3 kB\u001b[0m \u001b[31m12.9 MB/s\u001b[0m eta \u001b[36m0:00:00\u001b[0m\n",
            "\u001b[2K     \u001b[90m━━━━━━━━━━━━━━━━━━━━━━━━━━━━━━━━━━━━━━━━\u001b[0m \u001b[32m134.8/134.8 kB\u001b[0m \u001b[31m12.7 MB/s\u001b[0m eta \u001b[36m0:00:00\u001b[0m\n",
            "\u001b[2K     \u001b[90m━━━━━━━━━━━━━━━━━━━━━━━━━━━━━━━━━━━━━━━━\u001b[0m \u001b[32m1.6/1.6 MB\u001b[0m \u001b[31m17.9 MB/s\u001b[0m eta \u001b[36m0:00:00\u001b[0m\n",
            "\u001b[?25hMounted at /content/gdrive\n"
          ]
        }
      ]
    },
    {
      "cell_type": "code",
      "execution_count": 2,
      "metadata": {
        "id": "ZejbU0BV4Q-j"
      },
      "outputs": [],
      "source": [
        "from fastai.imports import *\n",
        "np.set_printoptions(linewidth=130)\n",
        "\n",
        "# for working with paths in Python, I recommend using `pathlib.Path`\n",
        "from pathlib import Path\n",
        "import os\n",
        "import seaborn as sns\n",
        "from numpy import random\n",
        "from sklearn.model_selection import train_test_split\n",
        "from sklearn.metrics import mean_absolute_error\n",
        "from ipywidgets import interact"
      ]
    },
    {
      "cell_type": "markdown",
      "source": [
        "Data PreProcessing"
      ],
      "metadata": {
        "id": "0ObkfhUj5BZq"
      }
    },
    {
      "cell_type": "code",
      "source": [
        "creds = '{\"username\":\"rubanzasilva\",\"key\":\"7590231111c5bbe2ad242827b0ef016c\"}'"
      ],
      "metadata": {
        "id": "heoIM1qJzmKC"
      },
      "execution_count": null,
      "outputs": []
    },
    {
      "cell_type": "code",
      "source": [
        "creds = '{\"username\":\"rubanzasilva\",\"key\":\"7590231111c5bbe2ad242827b0ef016c\"}'\n",
        "\n",
        "cred_path = Path('~/.kaggle/kaggle.json').expanduser()\n",
        "if not cred_path.exists():\n",
        "    cred_path.parent.mkdir(exist_ok=True)\n",
        "    cred_path.write_text(creds)\n",
        "    cred_path.chmod(0o600)\n"
      ],
      "metadata": {
        "id": "1KVfudLA4_7U"
      },
      "execution_count": 3,
      "outputs": []
    },
    {
      "cell_type": "code",
      "source": [
        "import os\n",
        "iskaggle = os.environ.get('KAGGLE_KERNEL_RUN_TYPE', '')\n",
        "\n",
        "if iskaggle: path = Path('../input/titanic')\n",
        "else:\n",
        "    import zipfile,kaggle\n",
        "    path = Path('titanic')\n",
        "    kaggle.api.competition_download_cli(str(path))\n",
        "    zipfile.ZipFile(f'{path}.zip').extractall(path)\n",
        "\n",
        "#train_df = pd.read_csv(path/'train.csv')\n",
        "#test_df = pd.read_csv(path/'test.csv')"
      ],
      "metadata": {
        "colab": {
          "base_uri": "https://localhost:8080/"
        },
        "id": "PzFXkUey5tEp",
        "outputId": "f842044e-7a69-4256-c970-54a061761cec"
      },
      "execution_count": 4,
      "outputs": [
        {
          "output_type": "stream",
          "name": "stdout",
          "text": [
            "Downloading titanic.zip to /content\n"
          ]
        },
        {
          "output_type": "stream",
          "name": "stderr",
          "text": [
            "100%|██████████| 34.1k/34.1k [00:00<00:00, 34.9MB/s]"
          ]
        },
        {
          "output_type": "stream",
          "name": "stdout",
          "text": [
            "\n"
          ]
        },
        {
          "output_type": "stream",
          "name": "stderr",
          "text": [
            "\n"
          ]
        }
      ]
    },
    {
      "cell_type": "code",
      "source": [
        "train_df = pd.read_csv(path/'train.csv')\n",
        "test_df = pd.read_csv(path/'test.csv')"
      ],
      "metadata": {
        "id": "8JiaffdMELLE"
      },
      "execution_count": 5,
      "outputs": []
    },
    {
      "cell_type": "markdown",
      "source": [
        "Preprocessing\n",
        "\n",
        "We do the same processing we had done in our previous linear model.\n",
        "\n",
        "With random forests, we dont need to create dummy variables instead we turn our variables into categorical which assigns each level in a column a number/label.The number is an index for looking up that particular value in a list of unique values.\n",
        "\n",
        "Lets create a function for our transformations."
      ],
      "metadata": {
        "id": "I-vCryyT2X0G"
      }
    },
    {
      "cell_type": "code",
      "source": [
        "modes = train_df.mode().iloc[0]\n",
        "modes"
      ],
      "metadata": {
        "colab": {
          "base_uri": "https://localhost:8080/"
        },
        "id": "6P2lB5uV31HI",
        "outputId": "eedb416a-f294-4012-81eb-8e676ea82fbe"
      },
      "execution_count": 6,
      "outputs": [
        {
          "output_type": "execute_result",
          "data": {
            "text/plain": [
              "PassengerId                      1\n",
              "Survived                       0.0\n",
              "Pclass                         3.0\n",
              "Name           Abbing, Mr. Anthony\n",
              "Sex                           male\n",
              "Age                           24.0\n",
              "SibSp                          0.0\n",
              "Parch                          0.0\n",
              "Ticket                        1601\n",
              "Fare                          8.05\n",
              "Cabin                      B96 B98\n",
              "Embarked                         S\n",
              "Name: 0, dtype: object"
            ]
          },
          "metadata": {},
          "execution_count": 6
        }
      ]
    },
    {
      "cell_type": "code",
      "source": [
        "def proc_data(df):\n",
        "    df['Fare'] = df.Fare.fillna(0)\n",
        "    df.fillna(modes, inplace=True)\n",
        "    df['LogFare'] = np.log1p(df['Fare'])\n",
        "    df['Embarked'] = pd.Categorical(df.Embarked)\n",
        "    df['Sex'] = pd.Categorical(df.Sex)"
      ],
      "metadata": {
        "id": "XeN1ZLnM5yUy"
      },
      "execution_count": 7,
      "outputs": []
    },
    {
      "cell_type": "code",
      "source": [
        "proc_data(train_df)\n",
        "proc_data(test_df)"
      ],
      "metadata": {
        "id": "Tw_XcIRA9ksg"
      },
      "execution_count": 8,
      "outputs": []
    },
    {
      "cell_type": "code",
      "source": [
        "train_df.shape"
      ],
      "metadata": {
        "colab": {
          "base_uri": "https://localhost:8080/"
        },
        "id": "53y5504V-Hue",
        "outputId": "a9f2bca3-fb55-4d88-c54a-a6bf96902b57"
      },
      "execution_count": 9,
      "outputs": [
        {
          "output_type": "execute_result",
          "data": {
            "text/plain": [
              "(891, 13)"
            ]
          },
          "metadata": {},
          "execution_count": 9
        }
      ]
    },
    {
      "cell_type": "markdown",
      "source": [
        "Previously we had defined sex, embarked, and pclass as our categorical variables. We turn these into categorical variables here which for every value, assigns each value a number within a list of unique values.\n",
        "\n",
        "We also notice that Pclass is an ordered variable, in decision trees we see that the order of classes carries some significant information about the data. This means that the decision tree can make decisions based on the order of our variables and not just the distinct values.\n",
        "\n",
        "The model takes into account the order and hierarchy in the data which leads to more accurate predictions."
      ],
      "metadata": {
        "id": "pGuQbM8R7ExM"
      }
    },
    {
      "cell_type": "code",
      "source": [
        "cats = ['Embarked', 'Sex']\n",
        "conts = ['Pclass','Age','SibSp','Parch','LogFare']\n",
        "dep = 'Survived'"
      ],
      "metadata": {
        "id": "PtDlvOUS_I7h"
      },
      "execution_count": 10,
      "outputs": []
    },
    {
      "cell_type": "code",
      "source": [
        "train_df.Sex.head()"
      ],
      "metadata": {
        "colab": {
          "base_uri": "https://localhost:8080/"
        },
        "id": "hV-oDBL5BGN9",
        "outputId": "f34be681-2012-40b8-861c-cb0bbe6c0d85"
      },
      "execution_count": 11,
      "outputs": [
        {
          "output_type": "execute_result",
          "data": {
            "text/plain": [
              "0      male\n",
              "1    female\n",
              "2    female\n",
              "3    female\n",
              "4      male\n",
              "Name: Sex, dtype: category\n",
              "Categories (2, object): ['female', 'male']"
            ]
          },
          "metadata": {},
          "execution_count": 11
        }
      ]
    },
    {
      "cell_type": "code",
      "source": [
        "train_df.Sex.cat.codes.head()"
      ],
      "metadata": {
        "colab": {
          "base_uri": "https://localhost:8080/"
        },
        "id": "li-iWtrWDrwb",
        "outputId": "ea940d82-9ce6-4516-d1b1-01453a31996c"
      },
      "execution_count": 12,
      "outputs": [
        {
          "output_type": "execute_result",
          "data": {
            "text/plain": [
              "0    1\n",
              "1    0\n",
              "2    0\n",
              "3    0\n",
              "4    1\n",
              "dtype: int8"
            ]
          },
          "metadata": {},
          "execution_count": 12
        }
      ]
    },
    {
      "cell_type": "markdown",
      "source": [
        "train_df.Sex are now categorical variables but when queried, pandas still show them as the original values but behind the scenes they are stored as ints with indices that can be looked up in the Categories list.\n",
        "\n",
        "We can view the stored values for a variable by using the cat.codes attribute."
      ],
      "metadata": {
        "id": "7-oPKr1aEyd2"
      }
    },
    {
      "cell_type": "markdown",
      "source": [
        "##Binary Split\n",
        "\n",
        "To create a random forest or a gradient boosting machine, we need to create a decision tree which in turn is made up of binary splits.\n",
        "\n",
        "A binary split is where all rows are placed into 1 of 2 groups based on whether they are above or below some threshold of some column.\n",
        "\n",
        "> For example, we could split the rows of our dataset into males and females, by using the threshold 0.5 and the column Sex (since the values in the column are 0 for female and 1 for male).\n",
        "\n",
        "We use a plot to see how that would split up our data, we use the seaborn library built upon matplotlib\n"
      ],
      "metadata": {
        "id": "prWPaJkiIH9b"
      }
    },
    {
      "cell_type": "code",
      "source": [
        "fig, axs = plt.subplots(1,2, figsize=(11,5))\n",
        "sns.barplot(data=train_df, y=dep, x=\"Sex\", ax=axs[0]).set(title=\"Survival rate\")\n",
        "sns.countplot(data=train_df, x=\"Sex\", ax=axs[1]).set(title=\"Histogram\")"
      ],
      "metadata": {
        "id": "SjtElvuFFGCR",
        "colab": {
          "base_uri": "https://localhost:8080/",
          "height": 513
        },
        "outputId": "5f56e00b-f3c0-4f4d-e439-b115235423d3"
      },
      "execution_count": 13,
      "outputs": [
        {
          "output_type": "execute_result",
          "data": {
            "text/plain": [
              "[Text(0.5, 1.0, 'Histogram')]"
            ]
          },
          "metadata": {},
          "execution_count": 13
        },
        {
          "output_type": "display_data",
          "data": {
            "text/plain": [
              "<Figure size 1100x500 with 2 Axes>"
            ],
            "image/png": "[encoded data removed]"
          },
          "metadata": {}
        }
      ]
    },
    {
      "cell_type": "markdown",
      "source": [
        "*find a way to color code the plot*\n",
        "fastai book plot is color coded this one isnt why ?\n",
        "probably due to depreceiation.\n"
      ],
      "metadata": {
        "id": "RpQ97w4EMpWv"
      }
    },
    {
      "cell_type": "markdown",
      "source": [
        "We can look at the outputs of our plot, first in the barplot we see that the survival rates for our two groups vary significantly with the females having a survival rate of >70% while males survival rate is < 20%.\n",
        "\n",
        "With this we can create a model that says all female passenger survive while male passengers dont, then we can check to see accurate this model is.\n",
        "\n",
        "Before we do this, lets split our data into the training and validation set using the Sklearn *TrainTestSplit*. We also set the random seed for reproducibilty.\n",
        "\n",
        "Remember, we need a numerical input so we use a lambda function to replace our categorical variables with our categorical codesby using a lambda function to apply the .cat.codes attribute to the columns in our cat variable.\n",
        "\n",
        "A lambda function is defined as *lambda arguments: expression.*\n"
      ],
      "metadata": {
        "id": "M7cLEuldLA6C"
      }
    },
    {
      "cell_type": "code",
      "source": [
        "random.seed(42)\n",
        "trn_df,val_df = train_test_split(train_df, test_size=0.25)\n",
        "trn_df[cats] = trn_df[cats].apply(lambda x:x.cat.codes)\n",
        "val_df[cats] = val_df[cats].apply(lambda x:x.cat.codes)"
      ],
      "metadata": {
        "id": "6xRHRpxJN26q"
      },
      "execution_count": 14,
      "outputs": []
    },
    {
      "cell_type": "markdown",
      "source": [
        "Lets now create our input i.e. our independent variables (x) and dependent variable (y). We define a function xs_y which takes our dataframe, creates a new independent variable xs, and returns xs alongside the dependent variable if available.\n",
        "\n",
        "This is copy of our dataframe where we add up the continous and categorical variables."
      ],
      "metadata": {
        "id": "pLi-w119Suxv"
      }
    },
    {
      "cell_type": "code",
      "source": [
        "def xs_y(df):\n",
        "  xs = df[cats + conts].copy()\n",
        "  return xs,df[dep] if dep in df else None\n",
        "\n",
        "trn_xs, trn_y = xs_y(trn_df)\n",
        "val_xs, val_y = xs_y(val_df)"
      ],
      "metadata": {
        "id": "G2AR4PgKN23S"
      },
      "execution_count": 15,
      "outputs": []
    },
    {
      "cell_type": "markdown",
      "source": [
        "Lets calculate our predictions"
      ],
      "metadata": {
        "id": "pXccXvyuV9Nm"
      }
    },
    {
      "cell_type": "code",
      "source": [
        "preds = val_xs.Sex == 0\n",
        "preds"
      ],
      "metadata": {
        "colab": {
          "base_uri": "https://localhost:8080/"
        },
        "id": "676Y6XV-N20a",
        "outputId": "28fb589a-5801-49d4-da14-2cb7a64fd5fa"
      },
      "execution_count": 16,
      "outputs": [
        {
          "output_type": "execute_result",
          "data": {
            "text/plain": [
              "709    False\n",
              "439    False\n",
              "840    False\n",
              "720     True\n",
              "39      True\n",
              "       ...  \n",
              "880     True\n",
              "425    False\n",
              "101    False\n",
              "199     True\n",
              "424    False\n",
              "Name: Sex, Length: 223, dtype: bool"
            ]
          },
          "metadata": {},
          "execution_count": 16
        }
      ]
    },
    {
      "cell_type": "code",
      "source": [
        "val_xs.shape"
      ],
      "metadata": {
        "colab": {
          "base_uri": "https://localhost:8080/"
        },
        "id": "HXPnQ4H1Wa1q",
        "outputId": "77a40129-7a2b-4bd2-d9a9-e407da9378d9"
      },
      "execution_count": 17,
      "outputs": [
        {
          "output_type": "execute_result",
          "data": {
            "text/plain": [
              "(223, 7)"
            ]
          },
          "metadata": {},
          "execution_count": 17
        }
      ]
    },
    {
      "cell_type": "code",
      "source": [
        "trn_xs.shape"
      ],
      "metadata": {
        "colab": {
          "base_uri": "https://localhost:8080/"
        },
        "id": "Uy0lij-WWxgM",
        "outputId": "74d3a356-8d98-4849-df5d-0955ba80243d"
      },
      "execution_count": 18,
      "outputs": [
        {
          "output_type": "execute_result",
          "data": {
            "text/plain": [
              "(668, 7)"
            ]
          },
          "metadata": {},
          "execution_count": 18
        }
      ]
    },
    {
      "cell_type": "code",
      "source": [
        "#trn_preds = trn_xs.Sex == 0\n",
        "#trn_preds"
      ],
      "metadata": {
        "id": "pLOQODqKW1Je"
      },
      "execution_count": 19,
      "outputs": []
    },
    {
      "cell_type": "code",
      "source": [
        "preds.shape"
      ],
      "metadata": {
        "colab": {
          "base_uri": "https://localhost:8080/"
        },
        "id": "TsOmOc3RN2xo",
        "outputId": "29388efa-80a0-4f9b-c95e-30bb99c677d8"
      },
      "execution_count": 20,
      "outputs": [
        {
          "output_type": "execute_result",
          "data": {
            "text/plain": [
              "(223,)"
            ]
          },
          "metadata": {},
          "execution_count": 20
        }
      ]
    },
    {
      "cell_type": "markdown",
      "source": [
        "We can now use Mean Absolute Error to measure how good our model is."
      ],
      "metadata": {
        "id": "yMUL7G61XLXh"
      }
    },
    {
      "cell_type": "code",
      "source": [
        "#from sklearn.metrics import mean_absolute_error\n",
        "mean_absolute_error(val_y,preds)"
      ],
      "metadata": {
        "colab": {
          "base_uri": "https://localhost:8080/"
        },
        "id": "heM4Yu4MXdGP",
        "outputId": "dda77195-1437-4825-9b7b-02930eaec22c"
      },
      "execution_count": 21,
      "outputs": [
        {
          "output_type": "execute_result",
          "data": {
            "text/plain": [
              "0.21524663677130046"
            ]
          },
          "metadata": {},
          "execution_count": 21
        }
      ]
    },
    {
      "cell_type": "markdown",
      "source": [
        "Summary\n",
        "\n",
        "So far my idea of binary splits, is we choose a value that seems like a good split, split alongside that into two groups with each group representign a different pred for example 1 and 0 for survived or not respectively.\n",
        "\n",
        "We split on a particular value, say male and female for example we might say all males didnt survive while all females did.We then calculate preds with this logic i.e. if passenger if female, then they survived. We then test how good this model is using a loss function."
      ],
      "metadata": {
        "id": "rentr5ayZLGn"
      }
    },
    {
      "cell_type": "markdown",
      "source": [
        "Alternatively, we can split on a continous column.Lets look at LogFare."
      ],
      "metadata": {
        "id": "N6MMwgkaa4Fk"
      }
    },
    {
      "cell_type": "code",
      "source": [
        "df_fare = trn_df[trn_df.LogFare>0]\n",
        "fig, axs = plt.subplots(1,2, figsize=(11,5))\n",
        "sns.boxenplot(data=df_fare, x=dep, y=\"LogFare\", ax=axs[0])\n",
        "sns.kdeplot(data=df_fare, x =\"LogFare\", ax=axs[1])"
      ],
      "metadata": {
        "colab": {
          "base_uri": "https://localhost:8080/",
          "height": 490
        },
        "id": "3CDlMDPqaymG",
        "outputId": "85f2cc02-c26f-4872-b068-ae361f9b4127"
      },
      "execution_count": 22,
      "outputs": [
        {
          "output_type": "execute_result",
          "data": {
            "text/plain": [
              "<Axes: xlabel='LogFare', ylabel='Density'>"
            ]
          },
          "metadata": {},
          "execution_count": 22
        },
        {
          "output_type": "display_data",
          "data": {
            "text/plain": [
              "<Figure size 1100x500 with 2 Axes>"
            ],
            "image/png": "[encoded data removed]"
          },
          "metadata": {}
        }
      ]
    },
    {
      "cell_type": "markdown",
      "source": [
        "We notice that people with higher LogFare had a higher chance of surviving.\n",
        "\n",
        "\n",
        "> The boxenplot above shows quantiles of LogFare for each group of Survived==0 and Survived==1. It shows that the average LogFare for passengers that didn't survive is around 2.5, and for those that did it's around 3.2. So it seems that people that paid more for their tickets were more likely to get put on a lifeboat.\n",
        "\n",
        "We now create a simple model based on this observation and test how good it is."
      ],
      "metadata": {
        "id": "DkTHG2QWe0xP"
      }
    },
    {
      "cell_type": "code",
      "source": [
        "preds = val_xs.LogFare > 2.7\n",
        "preds"
      ],
      "metadata": {
        "colab": {
          "base_uri": "https://localhost:8080/"
        },
        "id": "XVM41vNCdgjP",
        "outputId": "a6dfa48a-b2d0-4006-96c4-164754f3f933"
      },
      "execution_count": 23,
      "outputs": [
        {
          "output_type": "execute_result",
          "data": {
            "text/plain": [
              "709     True\n",
              "439    False\n",
              "840    False\n",
              "720     True\n",
              "39     False\n",
              "       ...  \n",
              "880     True\n",
              "425    False\n",
              "101    False\n",
              "199    False\n",
              "424     True\n",
              "Name: LogFare, Length: 223, dtype: bool"
            ]
          },
          "metadata": {},
          "execution_count": 23
        }
      ]
    },
    {
      "cell_type": "code",
      "source": [
        "mean_absolute_error(val_y,preds)"
      ],
      "metadata": {
        "colab": {
          "base_uri": "https://localhost:8080/"
        },
        "id": "LFUNCIDodgfs",
        "outputId": "7f8978da-c80e-42ae-ff4a-5cfbbff7252f"
      },
      "execution_count": 24,
      "outputs": [
        {
          "output_type": "execute_result",
          "data": {
            "text/plain": [
              "0.336322869955157"
            ]
          },
          "metadata": {},
          "execution_count": 24
        }
      ]
    },
    {
      "cell_type": "markdown",
      "source": [
        "So it did slightly worse than our model that used sex as a split.\n",
        "\n",
        "We need a way to try our more columns and split points more easily and less manually.We create a function that returns a score based on how good a split is.\n",
        "\n",
        "Instead of using mean squared error, we use a measure of impurity or how good a split is by calculating how similar the rows are for each group split.\n",
        "\n",
        "We can measure the similarity of rows inside a group by taking the standard deviation from the dependent variable. The higher this number is the less similar the rows for a group are."
      ],
      "metadata": {
        "id": "r8TymYRMfsjj"
      }
    },
    {
      "cell_type": "code",
      "source": [
        "def _side_score(side,y):\n",
        "  tot = side.sum()\n",
        "  if tot<=1:\n",
        "    return 0\n",
        "  return y[side].std()*tot"
      ],
      "metadata": {
        "id": "d1yUP1Sodgc5"
      },
      "execution_count": 28,
      "outputs": []
    },
    {
      "cell_type": "code",
      "source": [
        "def _side_score(side, y):\n",
        "    tot = side.sum()\n",
        "    if tot<=1: return 0\n",
        "    return y[side].std()*tot"
      ],
      "metadata": {
        "id": "mURty5I3o17Y"
      },
      "execution_count": 40,
      "outputs": []
    },
    {
      "cell_type": "markdown",
      "source": [
        "We now add up the score for a split by adding the scores for both the lhs and rhs."
      ],
      "metadata": {
        "id": "7TlvWpeXlTfy"
      }
    },
    {
      "cell_type": "code",
      "source": [
        "def score(col,y,split):\n",
        "  lhs = col <= split\n",
        "  return (_side_score(lhs,y) + _side_score(-lhs,y))/len(y)"
      ],
      "metadata": {
        "id": "F33kYaWeibPA"
      },
      "execution_count": 29,
      "outputs": []
    },
    {
      "cell_type": "code",
      "source": [
        "trn_xs.shape"
      ],
      "metadata": {
        "colab": {
          "base_uri": "https://localhost:8080/"
        },
        "id": "3XGqaQOKmKJ3",
        "outputId": "67df3de4-0aab-4e07-b443-c1d85249224a"
      },
      "execution_count": 33,
      "outputs": [
        {
          "output_type": "execute_result",
          "data": {
            "text/plain": [
              "(668, 7)"
            ]
          },
          "metadata": {},
          "execution_count": 33
        }
      ]
    },
    {
      "cell_type": "code",
      "source": [
        "score(trn_xs[\"Sex\"], trn_y, 0.5)"
      ],
      "metadata": {
        "colab": {
          "base_uri": "https://localhost:8080/"
        },
        "id": "Z9fLAKN5lhjF",
        "outputId": "badf5e7e-8b14-4bf2-beec-e75efeb5d5fe"
      },
      "execution_count": 35,
      "outputs": [
        {
          "output_type": "execute_result",
          "data": {
            "text/plain": [
              "0.40787530982063946"
            ]
          },
          "metadata": {},
          "execution_count": 35
        }
      ]
    },
    {
      "cell_type": "code",
      "source": [
        "score(trn_xs[\"LogFare\"], trn_y, 2.7)"
      ],
      "metadata": {
        "colab": {
          "base_uri": "https://localhost:8080/"
        },
        "id": "nVLUJt5Bmbty",
        "outputId": "cb60d25b-5ad9-42c2-f894-ddb2639c88be"
      },
      "execution_count": 36,
      "outputs": [
        {
          "output_type": "execute_result",
          "data": {
            "text/plain": [
              "0.47180873952099694"
            ]
          },
          "metadata": {},
          "execution_count": 36
        }
      ]
    },
    {
      "cell_type": "markdown",
      "source": [
        "This results in the same things as earlier, our Sex is a better split than the Log Fare.\n",
        "\n",
        "We create an interactive tool to help us vary our split value so we can find the best split value."
      ],
      "metadata": {
        "id": "08BJKvLkmztq"
      }
    },
    {
      "cell_type": "code",
      "source": [
        "def iscore(nm,split):\n",
        "  col = trn_xs[nm]\n",
        "  return score(col,trn_y,split)\n",
        "\n",
        "#from ipywidgets import interact\n",
        "interact(nm=conts, split=15.5)(iscore);"
      ],
      "metadata": {
        "colab": {
          "base_uri": "https://localhost:8080/",
          "height": 98,
          "referenced_widgets": [
            "dc3e2cd0d30b44d08139c263503b47a8",
            "55b08584489a43bc831d90730ff5404a",
            "610a1dd6c15a4eafa65ee32101c4d948",
            "ee8406f11eeb4ac79887156ce5098d96",
            "8fddf941b5804e43a61678a206042744",
            "e4f18c48b3304c52b0f87702a85d7876",
            "d1a9270b223a4409b279f9fe21d947ad",
            "2a3824e6c4274e55ad804b6a68855a52",
            "badfc9957eae4827bea03f35e7b134df",
            "13dab865e37145c8ba862473c848dfd8"
          ]
        },
        "id": "xdtd_ut2myFn",
        "outputId": "9bf94f5c-b9be-4d6b-9665-4169327654d3"
      },
      "execution_count": 44,
      "outputs": [
        {
          "output_type": "display_data",
          "data": {
            "text/plain": [
              "interactive(children=(Dropdown(description='nm', options=('Pclass', 'Age', 'SibSp', 'Parch', 'LogFare'), value…"
            ],
            "application/vnd.jupyter.widget-view+json": {
              "version_major": 2,
              "version_minor": 0,
              "model_id": "dc3e2cd0d30b44d08139c263503b47a8"
            }
          },
          "metadata": {}
        }
      ]
    },
    {
      "cell_type": "markdown",
      "source": [
        "We defined a function isscore which extracts a particular continous column and returns the score for that column showing the variabilty within the dependent variable for a particular split.\n",
        "\n",
        "The interact function from the ipywidgets library is used to create an interactive widget that allows you to select a feature nm from a list of continuous features conts and specify a split value.\n",
        "\n",
        "This widget calls the isscore function with the selected feature and split value, allowing you to dynamically calculate and visualize the scoring metric for different features and split values.\n",
        "\n",
        "\n",
        "(https://www.phind.com/search?cache=lwc40psw6mf0gudnbnijyoff)\n",
        "\n",
        "We also pass in the categorical variables, cats"
      ],
      "metadata": {
        "id": "Rf9a93ipn68P"
      }
    },
    {
      "cell_type": "code",
      "source": [
        "interact(nm=cats, split=15.5)(iscore);"
      ],
      "metadata": {
        "colab": {
          "base_uri": "https://localhost:8080/",
          "height": 98,
          "referenced_widgets": [
            "11da6bf6af8a4f8cb0b5a99fd01c3182",
            "9aeb0d5ff0d74cf0ac19dff9260aecfd",
            "e19ddf2b0bb04bf7b119274f888a1dd4",
            "9e59a073eebe47629f0235e038c0e2ae",
            "a43a01ce197849a2bd49719caf025f0e",
            "00fd307bbce841db9f4145b404826c66",
            "c8fbe2f0085a475f9fd778b28cb460ed",
            "c5278d67e4874f08adb82f1e3686c233",
            "9fc37186c3d54798a264ad292b547e3e",
            "ee7acc0929fb4d199a8d516aeb09727f"
          ]
        },
        "id": "kL2euOKfpxxP",
        "outputId": "b3c2ea3f-acd6-4091-92e3-694379515e13"
      },
      "execution_count": 45,
      "outputs": [
        {
          "output_type": "display_data",
          "data": {
            "text/plain": [
              "interactive(children=(Dropdown(description='nm', options=('Embarked', 'Sex'), value='Embarked'), FloatSlider(v…"
            ],
            "application/vnd.jupyter.widget-view+json": {
              "version_major": 2,
              "version_minor": 0,
              "model_id": "11da6bf6af8a4f8cb0b5a99fd01c3182"
            }
          },
          "metadata": {}
        }
      ]
    },
    {
      "cell_type": "markdown",
      "source": [
        "This works but it is quite manual, we want to have a way to automatically find the best split point in a column for us. To calculate the best split point, first we need to have a list of all the possible split points"
      ],
      "metadata": {
        "id": "16AA_BUwp-ib"
      }
    },
    {
      "cell_type": "code",
      "source": [
        "nm = \"Age\"\n",
        "col = trn_xs[nm]\n",
        "col"
      ],
      "metadata": {
        "colab": {
          "base_uri": "https://localhost:8080/"
        },
        "id": "PKSeY4iArUrh",
        "outputId": "d577345f-d97b-410f-ce97-de4d18784dfe"
      },
      "execution_count": 48,
      "outputs": [
        {
          "output_type": "execute_result",
          "data": {
            "text/plain": [
              "298    24.00\n",
              "884    25.00\n",
              "247    24.00\n",
              "478    22.00\n",
              "305     0.92\n",
              "       ...  \n",
              "106    21.00\n",
              "270    24.00\n",
              "860    41.00\n",
              "435    14.00\n",
              "102    21.00\n",
              "Name: Age, Length: 668, dtype: float64"
            ]
          },
          "metadata": {},
          "execution_count": 48
        }
      ]
    },
    {
      "cell_type": "code",
      "source": [
        "unq = col.unique()\n",
        "unq.sort()\n",
        "unq"
      ],
      "metadata": {
        "colab": {
          "base_uri": "https://localhost:8080/"
        },
        "id": "9XTNzeolrUn9",
        "outputId": "f7e4d4f3-7e50-4c60-fe9d-a1f9cc90efa6"
      },
      "execution_count": 49,
      "outputs": [
        {
          "output_type": "execute_result",
          "data": {
            "text/plain": [
              "array([ 0.42,  0.67,  0.75,  0.83,  0.92,  1.  ,  2.  ,  3.  ,  4.  ,  5.  ,  6.  ,  7.  ,  8.  ,  9.  , 10.  , 11.  , 12.  ,\n",
              "       13.  , 14.  , 14.5 , 15.  , 16.  , 17.  , 18.  , 19.  , 20.  , 21.  , 22.  , 23.  , 24.  , 24.5 , 25.  , 26.  , 27.  ,\n",
              "       28.  , 28.5 , 29.  , 30.  , 31.  , 32.  , 32.5 , 33.  , 34.  , 34.5 , 35.  , 36.  , 36.5 , 37.  , 38.  , 39.  , 40.  ,\n",
              "       40.5 , 41.  , 42.  , 43.  , 44.  , 45.  , 45.5 , 46.  , 47.  , 48.  , 49.  , 50.  , 51.  , 52.  , 53.  , 54.  , 55.  ,\n",
              "       55.5 , 56.  , 57.  , 58.  , 59.  , 60.  , 61.  , 62.  , 64.  , 65.  , 70.  , 70.5 , 74.  , 80.  ])"
            ]
          },
          "metadata": {},
          "execution_count": 49
        }
      ]
    },
    {
      "cell_type": "markdown",
      "source": [
        "We return the index of the value which results in the best split."
      ],
      "metadata": {
        "id": "SNaszdhtvVGo"
      }
    },
    {
      "cell_type": "code",
      "source": [
        "scores = np.array([score(col, trn_y, o) for o in unq if not np.isnan(0)])\n",
        "unq[scores.argmin()]"
      ],
      "metadata": {
        "colab": {
          "base_uri": "https://localhost:8080/"
        },
        "id": "kzAdcKCurUkw",
        "outputId": "88f003f7-ec37-49ba-b69b-5a870bb1fc58"
      },
      "execution_count": 50,
      "outputs": [
        {
          "output_type": "execute_result",
          "data": {
            "text/plain": [
              "6.0"
            ]
          },
          "metadata": {},
          "execution_count": 50
        }
      ]
    },
    {
      "cell_type": "code",
      "source": [
        "twer = scores.argmin()\n",
        "twer"
      ],
      "metadata": {
        "colab": {
          "base_uri": "https://localhost:8080/"
        },
        "id": "IRrKeX4pu_w7",
        "outputId": "86e7b749-de4d-41ee-fdf2-e0415a6b7004"
      },
      "execution_count": 52,
      "outputs": [
        {
          "output_type": "execute_result",
          "data": {
            "text/plain": [
              "10"
            ]
          },
          "metadata": {},
          "execution_count": 52
        }
      ]
    },
    {
      "cell_type": "markdown",
      "source": [
        "scores.argmin() returns the index of the value with the lowest score. unq[scores.argmin] returns that value for example for age, we see that 6 seems to be the number that reuslts in the best split.\n",
        "\n",
        "Lets write a function that implements this idea.\n"
      ],
      "metadata": {
        "id": "BByLRNREyL_p"
      }
    },
    {
      "cell_type": "code",
      "source": [
        "def min_col()"
      ],
      "metadata": {
        "id": "bn0h737ZrUbC"
      },
      "execution_count": null,
      "outputs": []
    },
    {
      "cell_type": "markdown",
      "source": [
        "Acknowledgements\n",
        "\n",
        "https://www.kaggle.com/code/jhoward/how-random-forests-really-work/\n"
      ],
      "metadata": {
        "id": "et6YQl6sLD9e"
      }
    },
    {
      "cell_type": "code",
      "source": [],
      "metadata": {
        "id": "09tp97eNLHnw"
      },
      "execution_count": null,
      "outputs": []
    }
  ]
}
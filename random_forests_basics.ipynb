{
  "nbformat": 4,
  "nbformat_minor": 0,
  "metadata": {
    "colab": {
      "provenance": [],
      "authorship_tag": "ABX9TyPq6RDDZhK2oV98uDE/veNk",
      "include_colab_link": true
    },
    "kernelspec": {
      "name": "python3",
      "display_name": "Python 3"
    },
    "language_info": {
      "name": "python"
    }
  },
  "cells": [
    {
      "cell_type": "markdown",
      "metadata": {
        "id": "view-in-github",
        "colab_type": "text"
      },
      "source": [
        "<a href=\"https://colab.research.google.com/github/rubanzasilva/random_forest_basics/blob/main/random_forests_basics.ipynb\" target=\"_parent\"><img src=\"https://colab.research.google.com/assets/colab-badge.svg\" alt=\"Open In Colab\"/></a>"
      ]
    },
    {
      "cell_type": "code",
      "source": [
        "\n",
        "#hide\n",
        "#This imports and sets up everything you will need for this notebook\n",
        "! [ -e /content ] && pip install -Uqq fastbook\n",
        "import fastbook\n",
        "fastbook.setup_book()"
      ],
      "metadata": {
        "colab": {
          "base_uri": "https://localhost:8080/"
        },
        "id": "qKIB-wkcz0Ct",
        "outputId": "0ede5dc8-e7de-46a6-8096-18a2cbcb3ad2"
      },
      "execution_count": 1,
      "outputs": [
        {
          "output_type": "stream",
          "name": "stdout",
          "text": [
            "\u001b[?25l     \u001b[90m━━━━━━━━━━━━━━━━━━━━━━━━━━━━━━━━━━━━━━━━\u001b[0m \u001b[32m0.0/719.8 kB\u001b[0m \u001b[31m?\u001b[0m eta \u001b[36m-:--:--\u001b[0m\r\u001b[2K     \u001b[91m━━━━━━━━━━━━━━━\u001b[0m\u001b[90m╺\u001b[0m\u001b[90m━━━━━━━━━━━━━━━━━━━━━━━━\u001b[0m \u001b[32m276.5/719.8 kB\u001b[0m \u001b[31m8.2 MB/s\u001b[0m eta \u001b[36m0:00:01\u001b[0m\r\u001b[2K     \u001b[90m━━━━━━━━━━━━━━━━━━━━━━━━━━━━━━━━━━━━━━━━\u001b[0m \u001b[32m719.8/719.8 kB\u001b[0m \u001b[31m13.5 MB/s\u001b[0m eta \u001b[36m0:00:00\u001b[0m\n",
            "\u001b[2K     \u001b[90m━━━━━━━━━━━━━━━━━━━━━━━━━━━━━━━━━━━━━━━━\u001b[0m \u001b[32m536.7/536.7 kB\u001b[0m \u001b[31m36.7 MB/s\u001b[0m eta \u001b[36m0:00:00\u001b[0m\n",
            "\u001b[2K     \u001b[90m━━━━━━━━━━━━━━━━━━━━━━━━━━━━━━━━━━━━━━━━\u001b[0m \u001b[32m116.3/116.3 kB\u001b[0m \u001b[31m13.9 MB/s\u001b[0m eta \u001b[36m0:00:00\u001b[0m\n",
            "\u001b[2K     \u001b[90m━━━━━━━━━━━━━━━━━━━━━━━━━━━━━━━━━━━━━━━━\u001b[0m \u001b[32m134.8/134.8 kB\u001b[0m \u001b[31m17.0 MB/s\u001b[0m eta \u001b[36m0:00:00\u001b[0m\n",
            "\u001b[2K     \u001b[90m━━━━━━━━━━━━━━━━━━━━━━━━━━━━━━━━━━━━━━━━\u001b[0m \u001b[32m1.6/1.6 MB\u001b[0m \u001b[31m63.9 MB/s\u001b[0m eta \u001b[36m0:00:00\u001b[0m\n",
            "\u001b[?25hMounted at /content/gdrive\n"
          ]
        }
      ]
    },
    {
      "cell_type": "code",
      "execution_count": 27,
      "metadata": {
        "id": "ZejbU0BV4Q-j"
      },
      "outputs": [],
      "source": [
        "from fastai.imports import *\n",
        "np.set_printoptions(linewidth=130)\n",
        "\n",
        "# for working with paths in Python, I recommend using `pathlib.Path`\n",
        "from pathlib import Path\n",
        "import os\n",
        "import seaborn as sns\n",
        "from numpy import random\n",
        "from sklearn.model_selection import train_test_split\n",
        "from sklearn.metrics import mean_absolute_error"
      ]
    },
    {
      "cell_type": "markdown",
      "source": [
        "Data PreProcessing"
      ],
      "metadata": {
        "id": "0ObkfhUj5BZq"
      }
    },
    {
      "cell_type": "code",
      "source": [
        "creds = '{\"username\":\"rubanzasilva\",\"key\":\"7590231111c5bbe2ad242827b0ef016c\"}'"
      ],
      "metadata": {
        "id": "heoIM1qJzmKC"
      },
      "execution_count": 3,
      "outputs": []
    },
    {
      "cell_type": "code",
      "source": [
        "creds = '{\"username\":\"rubanzasilva\",\"key\":\"7590231111c5bbe2ad242827b0ef016c\"}'\n",
        "\n",
        "cred_path = Path('~/.kaggle/kaggle.json').expanduser()\n",
        "if not cred_path.exists():\n",
        "    cred_path.parent.mkdir(exist_ok=True)\n",
        "    cred_path.write_text(creds)\n",
        "    cred_path.chmod(0o600)\n"
      ],
      "metadata": {
        "id": "1KVfudLA4_7U"
      },
      "execution_count": 4,
      "outputs": []
    },
    {
      "cell_type": "code",
      "source": [
        "import os\n",
        "iskaggle = os.environ.get('KAGGLE_KERNEL_RUN_TYPE', '')\n",
        "\n",
        "if iskaggle: path = Path('../input/titanic')\n",
        "else:\n",
        "    import zipfile,kaggle\n",
        "    path = Path('titanic')\n",
        "    kaggle.api.competition_download_cli(str(path))\n",
        "    zipfile.ZipFile(f'{path}.zip').extractall(path)\n",
        "\n",
        "#train_df = pd.read_csv(path/'train.csv')\n",
        "#test_df = pd.read_csv(path/'test.csv')"
      ],
      "metadata": {
        "colab": {
          "base_uri": "https://localhost:8080/"
        },
        "id": "PzFXkUey5tEp",
        "outputId": "55f229ad-bc3c-44db-951f-c348f4f3ccc0"
      },
      "execution_count": 5,
      "outputs": [
        {
          "output_type": "stream",
          "name": "stdout",
          "text": [
            "Downloading titanic.zip to /content\n"
          ]
        },
        {
          "output_type": "stream",
          "name": "stderr",
          "text": [
            "100%|██████████| 34.1k/34.1k [00:00<00:00, 25.1MB/s]"
          ]
        },
        {
          "output_type": "stream",
          "name": "stdout",
          "text": [
            "\n"
          ]
        },
        {
          "output_type": "stream",
          "name": "stderr",
          "text": [
            "\n"
          ]
        }
      ]
    },
    {
      "cell_type": "code",
      "source": [
        "train_df = pd.read_csv(path/'train.csv')\n",
        "test_df = pd.read_csv(path/'test.csv')"
      ],
      "metadata": {
        "id": "8JiaffdMELLE"
      },
      "execution_count": 6,
      "outputs": []
    },
    {
      "cell_type": "markdown",
      "source": [
        "Preprocessing\n",
        "\n",
        "We do the same processing we had done in our previous linear model.\n",
        "\n",
        "With random forests, we dont need to create dummy variables instead we turn our variables into categorical which assigns each level in a column a number/label.The number is an index for looking up that particular value in a list of unique values.\n",
        "\n",
        "Lets create a function for our transformations."
      ],
      "metadata": {
        "id": "I-vCryyT2X0G"
      }
    },
    {
      "cell_type": "code",
      "source": [
        "modes = train_df.mode().iloc[0]\n",
        "modes"
      ],
      "metadata": {
        "colab": {
          "base_uri": "https://localhost:8080/"
        },
        "id": "6P2lB5uV31HI",
        "outputId": "68b4871b-1d9a-4820-d47a-4742d8e3e93f"
      },
      "execution_count": 7,
      "outputs": [
        {
          "output_type": "execute_result",
          "data": {
            "text/plain": [
              "PassengerId                      1\n",
              "Survived                       0.0\n",
              "Pclass                         3.0\n",
              "Name           Abbing, Mr. Anthony\n",
              "Sex                           male\n",
              "Age                           24.0\n",
              "SibSp                          0.0\n",
              "Parch                          0.0\n",
              "Ticket                        1601\n",
              "Fare                          8.05\n",
              "Cabin                      B96 B98\n",
              "Embarked                         S\n",
              "Name: 0, dtype: object"
            ]
          },
          "metadata": {},
          "execution_count": 7
        }
      ]
    },
    {
      "cell_type": "code",
      "source": [
        "def proc_data(df):\n",
        "    df['Fare'] = df.Fare.fillna(0)\n",
        "    df.fillna(modes, inplace=True)\n",
        "    df['LogFare'] = np.log1p(df['Fare'])\n",
        "    df['Embarked'] = pd.Categorical(df.Embarked)\n",
        "    df['Sex'] = pd.Categorical(df.Sex)"
      ],
      "metadata": {
        "id": "XeN1ZLnM5yUy"
      },
      "execution_count": 8,
      "outputs": []
    },
    {
      "cell_type": "code",
      "source": [
        "proc_data(train_df)\n",
        "proc_data(test_df)"
      ],
      "metadata": {
        "id": "Tw_XcIRA9ksg"
      },
      "execution_count": 9,
      "outputs": []
    },
    {
      "cell_type": "code",
      "source": [
        "train_df.shape"
      ],
      "metadata": {
        "colab": {
          "base_uri": "https://localhost:8080/"
        },
        "id": "53y5504V-Hue",
        "outputId": "00251d7d-64da-4c63-ea48-17e2e414e239"
      },
      "execution_count": 10,
      "outputs": [
        {
          "output_type": "execute_result",
          "data": {
            "text/plain": [
              "(891, 13)"
            ]
          },
          "metadata": {},
          "execution_count": 10
        }
      ]
    },
    {
      "cell_type": "markdown",
      "source": [
        "Previously we had defined sex, embarked, and pclass as our categorical variables. We turn these into categorical variables here which for every value, assigns each value a number within a list of unique values.\n",
        "\n",
        "We also notice that Pclass is an ordered variable, in decision trees we see that the order of classes carries some significant information about the data. This means that the decision tree can make decisions based on the order of our variables and not just the distinct values.\n",
        "\n",
        "The model takes into account the order and hierarchy in the data which leads to more accurate predictions."
      ],
      "metadata": {
        "id": "pGuQbM8R7ExM"
      }
    },
    {
      "cell_type": "code",
      "source": [
        "cats = ['Embarked', 'Sex']\n",
        "conts = ['Pclass','Age','SibSp','Parch','LogFare']\n",
        "dep = 'Survived'"
      ],
      "metadata": {
        "id": "PtDlvOUS_I7h"
      },
      "execution_count": 11,
      "outputs": []
    },
    {
      "cell_type": "code",
      "source": [
        "train_df.Sex.head()"
      ],
      "metadata": {
        "colab": {
          "base_uri": "https://localhost:8080/"
        },
        "id": "hV-oDBL5BGN9",
        "outputId": "29d2e9c5-1831-4658-e1e2-1756eab790c8"
      },
      "execution_count": 12,
      "outputs": [
        {
          "output_type": "execute_result",
          "data": {
            "text/plain": [
              "0      male\n",
              "1    female\n",
              "2    female\n",
              "3    female\n",
              "4      male\n",
              "Name: Sex, dtype: category\n",
              "Categories (2, object): ['female', 'male']"
            ]
          },
          "metadata": {},
          "execution_count": 12
        }
      ]
    },
    {
      "cell_type": "code",
      "source": [
        "train_df.Sex.cat.codes.head()"
      ],
      "metadata": {
        "colab": {
          "base_uri": "https://localhost:8080/"
        },
        "id": "li-iWtrWDrwb",
        "outputId": "9810f7da-0877-42c5-b810-131a6beee866"
      },
      "execution_count": 13,
      "outputs": [
        {
          "output_type": "execute_result",
          "data": {
            "text/plain": [
              "0    1\n",
              "1    0\n",
              "2    0\n",
              "3    0\n",
              "4    1\n",
              "dtype: int8"
            ]
          },
          "metadata": {},
          "execution_count": 13
        }
      ]
    },
    {
      "cell_type": "markdown",
      "source": [
        "train_df.Sex are now categorical variables but when queried, pandas still show them as the original values but behind the scenes they are stored as ints with indices that can be looked up in the Categories list.\n",
        "\n",
        "We can view the stored values for a variable by using the cat.codes attribute."
      ],
      "metadata": {
        "id": "7-oPKr1aEyd2"
      }
    },
    {
      "cell_type": "markdown",
      "source": [
        "##Binary Split\n",
        "\n",
        "To create a random forest or a gradient boosting machine, we need to create a decision tree which in turn is made up of binary splits.\n",
        "\n",
        "A binary split is where all rows are placed into 1 of 2 groups based on whether they are above or below some threshold of some column.\n",
        "\n",
        "> For example, we could split the rows of our dataset into males and females, by using the threshold 0.5 and the column Sex (since the values in the column are 0 for female and 1 for male).\n",
        "\n",
        "We use a plot to see how that would split up our data, we use the seaborn library built upon matplotlib\n"
      ],
      "metadata": {
        "id": "prWPaJkiIH9b"
      }
    },
    {
      "cell_type": "code",
      "source": [
        "fig, axs = plt.subplots(1,2, figsize=(11,5))\n",
        "sns.barplot(data=train_df, y=dep, x=\"Sex\", ax=axs[0]).set(title=\"Survival rate\")\n",
        "sns.countplot(data=train_df, x=\"Sex\", ax=axs[1]).set(title=\"Histogram\")"
      ],
      "metadata": {
        "id": "SjtElvuFFGCR",
        "colab": {
          "base_uri": "https://localhost:8080/",
          "height": 513
        },
        "outputId": "3610cc7a-203f-47fc-875a-61fa63125640"
      },
      "execution_count": 15,
      "outputs": [
        {
          "output_type": "execute_result",
          "data": {
            "text/plain": [
              "[Text(0.5, 1.0, 'Histogram')]"
            ]
          },
          "metadata": {},
          "execution_count": 15
        },
        {
          "output_type": "display_data",
          "data": {
            "text/plain": [
              "<Figure size 1100x500 with 2 Axes>"
            ],
            "image/png": "[encoded data removed]"
          },
          "metadata": {}
        }
      ]
    },
    {
      "cell_type": "markdown",
      "source": [
        "*find a way to color code the plot*\n",
        "fastai book plot is color coded this one isnt why ?\n",
        "probably due to depreceiation.\n"
      ],
      "metadata": {
        "id": "RpQ97w4EMpWv"
      }
    },
    {
      "cell_type": "markdown",
      "source": [
        "We can look at the outputs of our plot, first in the barplot we see that the survival rates for our two groups vary significantly with the females having a survival rate of >70% while males survival rate is < 20%.\n",
        "\n",
        "With this we can create a model that says all female passenger survive while male passengers dont, then we can check to see accurate this model is.\n",
        "\n",
        "Before we do this, lets split our data into the training and validation set using the Sklearn *TrainTestSplit*. We also set the random seed for reproducibilty.\n",
        "\n",
        "Remember, we need a numerical input so we use a lambda function to replace our categorical variables with our categorical codesby using a lambda function to apply the .cat.codes attribute to the columns in our cat variable.\n",
        "\n",
        "A lambda function is defined as *lambda arguments: expression.*\n"
      ],
      "metadata": {
        "id": "M7cLEuldLA6C"
      }
    },
    {
      "cell_type": "code",
      "source": [
        "random.seed(42)\n",
        "trn_df,val_df = train_test_split(train_df, test_size=0.25)\n",
        "trn_df[cats] = trn_df[cats].apply(lambda x:x.cat.codes)\n",
        "val_df[cats] = val_df[cats].apply(lambda x:x.cat.codes)"
      ],
      "metadata": {
        "id": "6xRHRpxJN26q"
      },
      "execution_count": 19,
      "outputs": []
    },
    {
      "cell_type": "markdown",
      "source": [
        "Lets now create our input i.e. our independent variables (x) and dependent variable (y). We define a function xs_y which takes our dataframe, creates a new independent variable xs, and returns xs alongside the dependent variable if available.\n",
        "\n",
        "This is copy of our dataframe where we add up the continous and categorical variables."
      ],
      "metadata": {
        "id": "pLi-w119Suxv"
      }
    },
    {
      "cell_type": "code",
      "source": [
        "def xs_y(df):\n",
        "  xs = df[cats + conts].copy()\n",
        "  return xs,df[dep] if dep in df else None\n",
        "\n",
        "trn_xs, trn_y = xs_y(trn_df)\n",
        "val_xs, val_y = xs_y(val_df)"
      ],
      "metadata": {
        "id": "G2AR4PgKN23S"
      },
      "execution_count": 20,
      "outputs": []
    },
    {
      "cell_type": "markdown",
      "source": [
        "Lets calculate our predictions"
      ],
      "metadata": {
        "id": "pXccXvyuV9Nm"
      }
    },
    {
      "cell_type": "code",
      "source": [
        "preds = val_xs.Sex == 0\n",
        "preds"
      ],
      "metadata": {
        "colab": {
          "base_uri": "https://localhost:8080/"
        },
        "id": "676Y6XV-N20a",
        "outputId": "2e594691-aec1-496d-91e0-3438e4664e8d"
      },
      "execution_count": 26,
      "outputs": [
        {
          "output_type": "execute_result",
          "data": {
            "text/plain": [
              "709    False\n",
              "439    False\n",
              "840    False\n",
              "720     True\n",
              "39      True\n",
              "       ...  \n",
              "880     True\n",
              "425    False\n",
              "101    False\n",
              "199     True\n",
              "424    False\n",
              "Name: Sex, Length: 223, dtype: bool"
            ]
          },
          "metadata": {},
          "execution_count": 26
        }
      ]
    },
    {
      "cell_type": "code",
      "source": [
        "val_xs.shape"
      ],
      "metadata": {
        "colab": {
          "base_uri": "https://localhost:8080/"
        },
        "id": "HXPnQ4H1Wa1q",
        "outputId": "a65846eb-09e5-4e8e-e09a-f6770eaf3f32"
      },
      "execution_count": 23,
      "outputs": [
        {
          "output_type": "execute_result",
          "data": {
            "text/plain": [
              "(223, 7)"
            ]
          },
          "metadata": {},
          "execution_count": 23
        }
      ]
    },
    {
      "cell_type": "code",
      "source": [
        "trn_xs.shape"
      ],
      "metadata": {
        "colab": {
          "base_uri": "https://localhost:8080/"
        },
        "id": "Uy0lij-WWxgM",
        "outputId": "c865cb69-2999-4c3a-95b8-a8f174d00a65"
      },
      "execution_count": 24,
      "outputs": [
        {
          "output_type": "execute_result",
          "data": {
            "text/plain": [
              "(668, 7)"
            ]
          },
          "metadata": {},
          "execution_count": 24
        }
      ]
    },
    {
      "cell_type": "code",
      "source": [
        "#trn_preds = trn_xs.Sex == 0\n",
        "#trn_preds"
      ],
      "metadata": {
        "id": "pLOQODqKW1Je"
      },
      "execution_count": null,
      "outputs": []
    },
    {
      "cell_type": "code",
      "source": [
        "preds.shape"
      ],
      "metadata": {
        "colab": {
          "base_uri": "https://localhost:8080/"
        },
        "id": "TsOmOc3RN2xo",
        "outputId": "b2c82eb4-f89d-4f58-92fa-f1d5deaf6875"
      },
      "execution_count": 22,
      "outputs": [
        {
          "output_type": "execute_result",
          "data": {
            "text/plain": [
              "(223,)"
            ]
          },
          "metadata": {},
          "execution_count": 22
        }
      ]
    },
    {
      "cell_type": "markdown",
      "source": [
        "We can now use Mean Absolute Error to measure how good our model is."
      ],
      "metadata": {
        "id": "yMUL7G61XLXh"
      }
    },
    {
      "cell_type": "code",
      "source": [
        "#from sklearn.metrics import mean_absolute_error\n",
        "mean_absolute_error(val_y,preds)"
      ],
      "metadata": {
        "colab": {
          "base_uri": "https://localhost:8080/"
        },
        "id": "heM4Yu4MXdGP",
        "outputId": "f03a47ad-031b-4559-dada-e8652406ad72"
      },
      "execution_count": 28,
      "outputs": [
        {
          "output_type": "execute_result",
          "data": {
            "text/plain": [
              "0.21524663677130046"
            ]
          },
          "metadata": {},
          "execution_count": 28
        }
      ]
    },
    {
      "cell_type": "markdown",
      "source": [
        "Summary\n",
        "\n",
        "So far my idea of binary splits, is we choose a value that seems like a good split, split alongside that into two groups with each group representign a different pred for example 1 and 0 for survived or not respectively.\n",
        "\n",
        "We split on a particular value, say male and female for example we might say all males didnt survive while all females did.We then calculate preds with this logic i.e. if passenger if female, then they survived. We then test how good this model is using a loss function."
      ],
      "metadata": {
        "id": "rentr5ayZLGn"
      }
    },
    {
      "cell_type": "markdown",
      "source": [
        "Alternatively, we can split on a continous column.Lets look at LogFare."
      ],
      "metadata": {
        "id": "N6MMwgkaa4Fk"
      }
    },
    {
      "cell_type": "code",
      "source": [
        "df_fare = trn_df[trn_df.LogFare>0]\n",
        "fig, axs = plt.subplots(1,2, figsize=(11,5))\n",
        "sns.boxenplot(data=df_fare, x=dep, y=\"LogFare\", ax=axs[0])\n",
        "sns.kdeplot(data=df_fare, x =\"LogFare\", ax=axs[1])"
      ],
      "metadata": {
        "colab": {
          "base_uri": "https://localhost:8080/",
          "height": 490
        },
        "id": "3CDlMDPqaymG",
        "outputId": "006d2af9-2781-49c9-fc93-79cf07cb8217"
      },
      "execution_count": 30,
      "outputs": [
        {
          "output_type": "execute_result",
          "data": {
            "text/plain": [
              "<Axes: xlabel='LogFare', ylabel='Density'>"
            ]
          },
          "metadata": {},
          "execution_count": 30
        },
        {
          "output_type": "display_data",
          "data": {
            "text/plain": [
              "<Figure size 1100x500 with 2 Axes>"
            ],
            "image/png": "[encoded data removed]"
          },
          "metadata": {}
        }
      ]
    },
    {
      "cell_type": "markdown",
      "source": [
        "We notice that people with higher LogFare had a higher chance of surviving.\n",
        "\n",
        "\n",
        "> The boxenplot above shows quantiles of LogFare for each group of Survived==0 and Survived==1. It shows that the average LogFare for passengers that didn't survive is around 2.5, and for those that did it's around 3.2. So it seems that people that paid more for their tickets were more likely to get put on a lifeboat.\n",
        "\n",
        "We now create a simple model based on this observation and test how good it is."
      ],
      "metadata": {
        "id": "DkTHG2QWe0xP"
      }
    },
    {
      "cell_type": "code",
      "source": [
        "preds = val_xs.LogFare > 2.7\n",
        "preds"
      ],
      "metadata": {
        "colab": {
          "base_uri": "https://localhost:8080/"
        },
        "id": "XVM41vNCdgjP",
        "outputId": "9978ccef-b91b-4829-be06-5a5d13862e70"
      },
      "execution_count": 31,
      "outputs": [
        {
          "output_type": "execute_result",
          "data": {
            "text/plain": [
              "709     True\n",
              "439    False\n",
              "840    False\n",
              "720     True\n",
              "39     False\n",
              "       ...  \n",
              "880     True\n",
              "425    False\n",
              "101    False\n",
              "199    False\n",
              "424     True\n",
              "Name: LogFare, Length: 223, dtype: bool"
            ]
          },
          "metadata": {},
          "execution_count": 31
        }
      ]
    },
    {
      "cell_type": "code",
      "source": [
        "mean_absolute_error(val_y,preds)"
      ],
      "metadata": {
        "colab": {
          "base_uri": "https://localhost:8080/"
        },
        "id": "LFUNCIDodgfs",
        "outputId": "bb4dccb5-d654-4f65-f57a-826b2c2db135"
      },
      "execution_count": 32,
      "outputs": [
        {
          "output_type": "execute_result",
          "data": {
            "text/plain": [
              "0.336322869955157"
            ]
          },
          "metadata": {},
          "execution_count": 32
        }
      ]
    },
    {
      "cell_type": "markdown",
      "source": [
        "So it did worse."
      ],
      "metadata": {
        "id": "r8TymYRMfsjj"
      }
    },
    {
      "cell_type": "code",
      "source": [],
      "metadata": {
        "id": "d1yUP1Sodgc5"
      },
      "execution_count": null,
      "outputs": []
    },
    {
      "cell_type": "markdown",
      "source": [
        "Acknowledgements\n",
        "\n",
        "https://www.kaggle.com/code/jhoward/how-random-forests-really-work/\n"
      ],
      "metadata": {
        "id": "et6YQl6sLD9e"
      }
    },
    {
      "cell_type": "code",
      "source": [],
      "metadata": {
        "id": "09tp97eNLHnw"
      },
      "execution_count": null,
      "outputs": []
    }
  ]
}